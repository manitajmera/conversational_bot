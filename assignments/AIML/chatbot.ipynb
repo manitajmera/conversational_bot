{
 "cells": [
  {
   "cell_type": "code",
   "execution_count": null,
   "metadata": {},
   "outputs": [],
   "source": [
    "import aiml\n",
    "kernel=aiml.Kernel()\n",
    "kernel.learn(\"std-startup.xml\")\n",
    "kernel.respond(\"load aiml b\")"
   ]
  },
  {
   "cell_type": "markdown",
   "metadata": {},
   "source": [
    "# Wake up chitti!\n",
    "## Some features:\n",
    "### 1)Your reliable campus food expert \n",
    "### 2)Has a good humour can throw some good jokes \n",
    "### 3)Can play an anagram game \n",
    "### 4)Can search on google for you and even open images \n",
    "### 5)Can tell you instantaneous weather temperature and humidity conditions of any place \n",
    "\n",
    "# Caution!\n",
    "## Sometime throws gibberish while responding\n"
   ]
  },
  {
   "cell_type": "code",
   "execution_count": null,
   "metadata": {},
   "outputs": [],
   "source": [
    "sessionId=12345\n",
    "while True:\n",
    "    print(kernel.respond(input(\"Enter your message >> \"),sessionId))"
   ]
  }
 ],
 "metadata": {
  "kernelspec": {
   "display_name": "Python 3",
   "language": "python",
   "name": "python3"
  },
  "language_info": {
   "codemirror_mode": {
    "name": "ipython",
    "version": 3
   },
   "file_extension": ".py",
   "mimetype": "text/x-python",
   "name": "python",
   "nbconvert_exporter": "python",
   "pygments_lexer": "ipython3",
   "version": "3.7.6"
  }
 },
 "nbformat": 4,
 "nbformat_minor": 4
}
