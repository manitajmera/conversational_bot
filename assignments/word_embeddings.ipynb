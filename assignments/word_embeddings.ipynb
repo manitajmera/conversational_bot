{
  "nbformat": 4,
  "nbformat_minor": 0,
  "metadata": {
    "colab": {
      "name": "word-embeddings",
      "provenance": [],
      "collapsed_sections": [],
      "toc_visible": true
    },
    "kernelspec": {
      "name": "python3",
      "display_name": "Python 3"
    },
    "accelerator": "TPU"
  },
  "cells": [
    {
      "cell_type": "code",
      "metadata": {
        "id": "mQZR6rXhvNPP",
        "colab_type": "code",
        "colab": {}
      },
      "source": [
        "import pandas as pd\n",
        "import tensorflow_datasets as tfds\n",
        "import numpy as np\n",
        "imdb, info = tfds.load(\"imdb_reviews\", with_info=True, as_supervised=True)\n",
        "\n",
        "\n",
        "train_data, test_data = imdb['train'], imdb['test']\n",
        "\n",
        "training_sentences = []\n",
        "training_labels = []\n",
        "\n",
        "testing_sentences = []\n",
        "testing_labels = []\n",
        "\n",
        "for s,l in train_data:\n",
        "  training_sentences.append(str(s.numpy()))\n",
        "  training_labels.append(l.numpy())\n",
        "  \n",
        "for s,l in test_data:\n",
        "  testing_sentences.append(str(s.numpy()))\n",
        "  testing_labels.append(l.numpy())\n",
        "  \n",
        "training_labels_final = np.array(training_labels)\n",
        "testing_labels_final = np.array(testing_labels)\n",
        "\n",
        "\n",
        "\n"
      ],
      "execution_count": 0,
      "outputs": []
    },
    {
      "cell_type": "code",
      "metadata": {
        "id": "_Y6ZmJb9SH0M",
        "colab_type": "code",
        "colab": {}
      },
      "source": [
        "vocab_size = 10000\n",
        "embedding_dim = 100\n",
        "max_length = 120\n",
        "trunc_type='post'\n",
        "oov_tok = \"<OOV>\"\n",
        "\n",
        "\n",
        "from tensorflow.keras.preprocessing.text import Tokenizer\n",
        "from tensorflow.keras.preprocessing.sequence import pad_sequences\n",
        "\n",
        "tokenizer = Tokenizer(num_words = vocab_size, oov_token=oov_tok)\n",
        "tokenizer.fit_on_texts(training_sentences)\n",
        "word_index = tokenizer.word_index\n",
        "reverse_word_index = dict([(value, key) for (key, value) in word_index.items()])\n",
        "sequences = tokenizer.texts_to_sequences(training_sentences)\n",
        "padded = pad_sequences(sequences,maxlen=max_length, truncating=trunc_type)\n",
        "\n",
        "testing_sequences = tokenizer.texts_to_sequences(testing_sentences)\n",
        "testing_padded = pad_sequences(testing_sequences,maxlen=max_length)"
      ],
      "execution_count": 0,
      "outputs": []
    },
    {
      "cell_type": "code",
      "metadata": {
        "id": "OcTzSFS_SKCJ",
        "colab_type": "code",
        "outputId": "51115f46-8f72-481d-c136-f1087f95ae0b",
        "colab": {
          "base_uri": "https://localhost:8080/",
          "height": 284
        }
      },
      "source": [
        "\n",
        "import tensorflow as tf\n",
        "\n",
        "model = tf.keras.Sequential([\n",
        "    tf.keras.layers.Embedding(vocab_size, embedding_dim, input_length=max_length),\n",
        "    tf.keras.layers.GRU(units=32,dropout=0.2,recurrent_dropout=0.2),\n",
        "    tf.keras.layers.Dense(16, activation='relu'),\n",
        "    tf.keras.layers.Dense(1, activation='sigmoid')\n",
        "])\n",
        "model.compile(loss='binary_crossentropy',optimizer='adam',metrics=['accuracy'])\n",
        "model.summary()"
      ],
      "execution_count": 0,
      "outputs": [
        {
          "output_type": "stream",
          "text": [
            "Model: \"sequential_8\"\n",
            "_________________________________________________________________\n",
            "Layer (type)                 Output Shape              Param #   \n",
            "=================================================================\n",
            "embedding_8 (Embedding)      (None, 120, 100)          1000000   \n",
            "_________________________________________________________________\n",
            "gru_8 (GRU)                  (None, 32)                12864     \n",
            "_________________________________________________________________\n",
            "dense_16 (Dense)             (None, 16)                528       \n",
            "_________________________________________________________________\n",
            "dense_17 (Dense)             (None, 1)                 17        \n",
            "=================================================================\n",
            "Total params: 1,013,409\n",
            "Trainable params: 1,013,409\n",
            "Non-trainable params: 0\n",
            "_________________________________________________________________\n"
          ],
          "name": "stdout"
        }
      ]
    },
    {
      "cell_type": "code",
      "metadata": {
        "id": "NPkcSbB8WLdO",
        "colab_type": "code",
        "outputId": "fed5cf90-0b1d-4c07-b97f-3179bea3c840",
        "colab": {
          "base_uri": "https://localhost:8080/",
          "height": 53
        }
      },
      "source": [
        "batch_size = 128\n",
        "num_epochs = 25\n",
        "X_valid, y_valid = testing_padded[:batch_size], testing_labels_final[:batch_size]\n",
        "X_train2, y_train2 = testing_padded[batch_size:], testing_labels_final[batch_size:]\n",
        "history=model.fit(X_train2, y_train2, validation_data=(X_valid, y_valid), batch_size=batch_size, epochs=num_epochs,verbose=1)\n"
      ],
      "execution_count": 0,
      "outputs": [
        {
          "output_type": "stream",
          "text": [
            "195/195 [==============================] - 44s 226ms/step - loss: 0.0150 - accuracy: 0.9954 - val_loss: 1.1148 - val_accuracy: 0.8203\n"
          ],
          "name": "stdout"
        }
      ]
    },
    {
      "cell_type": "code",
      "metadata": {
        "id": "gtFT_5j1Vt_u",
        "colab_type": "code",
        "colab": {}
      },
      "source": [
        "def cosine_similarity(u, v):\n",
        "    \n",
        "    distance = 0.0\n",
        "\n",
        "    dot = np.dot(u, v)\n",
        "\n",
        "    norm_u = np.sqrt(np.sum(u * u))\n",
        "    \n",
        "    norm_v = np.sqrt(np.sum(v * v))\n",
        "    \n",
        "    cosine_similarity = dot / (norm_u * norm_v)\n",
        "    \n",
        "    return cosine_similarity\n"
      ],
      "execution_count": 0,
      "outputs": []
    },
    {
      "cell_type": "code",
      "metadata": {
        "id": "JclXU4NqXjD7",
        "colab_type": "code",
        "outputId": "ce6f6bc7-9f29-4960-cae1-757736489035",
        "colab": {
          "base_uri": "https://localhost:8080/",
          "height": 33
        }
      },
      "source": [
        "e = model.layers[0]\n",
        "weights = e.get_weights()[0]\n",
        "print(weights.shape) \n",
        "out_v = open('vecs.tsv', 'w')\n",
        "out_m = open('meta.tsv', 'w')\n",
        "num_words=10000\n",
        "for word_num in range(num_words):\n",
        "  if word_num==0:\n",
        "    continue\n",
        "  word = reverse_word_index[word_num]\n",
        "  embeddings = weights[word_num]\n",
        "  out_m.write(word + \"\\n\")\n",
        "  out_v.write('\\t'.join([str(x) for x in embeddings]) + \"\\n\")\n",
        "out_v.close()\n",
        "out_m.close()\n",
        "from google.colab import files\n",
        "files.download('vecs.tsv')\n",
        "files.download('meta.tsv')"
      ],
      "execution_count": 0,
      "outputs": [
        {
          "output_type": "stream",
          "text": [
            "(10000, 100)\n"
          ],
          "name": "stdout"
        }
      ]
    },
    {
      "cell_type": "code",
      "metadata": {
        "id": "cr9rGXO2WMFy",
        "colab_type": "code",
        "outputId": "e9757090-7e34-4040-c83e-138e11f90dc2",
        "colab": {
          "base_uri": "https://localhost:8080/",
          "height": 104
        }
      },
      "source": [
        "test1='nice movie'\n",
        "test2='bad movie'\n",
        "test_sample=[test1,test2]\n",
        "tokens=tokenizer.texts_to_sequences(test_sample)\n",
        "pad=pad_sequences(tokens)\n",
        "model.predict(x=pad)"
      ],
      "execution_count": 0,
      "outputs": [
        {
          "output_type": "stream",
          "text": [
            "WARNING:tensorflow:Model was constructed with shape (None, 120) for input Tensor(\"embedding_8_input:0\", shape=(None, 120), dtype=float32), but it was called on an input with incompatible shape (None, 2).\n"
          ],
          "name": "stdout"
        },
        {
          "output_type": "stream",
          "text": [
            "WARNING:tensorflow:Model was constructed with shape (None, 120) for input Tensor(\"embedding_8_input:0\", shape=(None, 120), dtype=float32), but it was called on an input with incompatible shape (None, 2).\n"
          ],
          "name": "stderr"
        },
        {
          "output_type": "execute_result",
          "data": {
            "text/plain": [
              "array([[0.75941175],\n",
              "       [0.00786584]], dtype=float32)"
            ]
          },
          "metadata": {
            "tags": []
          },
          "execution_count": 57
        }
      ]
    },
    {
      "cell_type": "code",
      "metadata": {
        "id": "ZseSoFQyWcc1",
        "colab_type": "code",
        "outputId": "f6c2b575-4a28-4b91-fac5-c3a1cee2449b",
        "colab": {
          "base_uri": "https://localhost:8080/",
          "height": 541
        }
      },
      "source": [
        "import matplotlib.pyplot as plt\n",
        "def graph(history,string):\n",
        "    plt.plot(history.history[string])\n",
        "    plt.plot(history.history['val_'+string])\n",
        "    plt.xlabel('epochs')\n",
        "    plt.ylabel(string)\n",
        "    plt.legend([string,'val_'+string])\n",
        "    plt.show()\n",
        "graph(history,'accuracy')\n",
        "graph(history,'loss')"
      ],
      "execution_count": 0,
      "outputs": [
        {
          "output_type": "display_data",
          "data": {
            "image/png": "[encoded data removed]",
            "text/plain": [
              "<Figure size 432x288 with 1 Axes>"
            ]
          },
          "metadata": {
            "tags": [],
            "needs_background": "light"
          }
        },
        {
          "output_type": "display_data",
          "data": {
            "image/png": "[encoded data removed]",
            "text/plain": [
              "<Figure size 432x288 with 1 Axes>"
            ]
          },
          "metadata": {
            "tags": [],
            "needs_background": "light"
          }
        }
      ]
    },
    {
      "cell_type": "markdown",
      "metadata": {
        "id": "nkfm8QjS3D4h",
        "colab_type": "text"
      },
      "source": [
        "#using trained word embeddings"
      ]
    },
    {
      "cell_type": "code",
      "metadata": {
        "id": "uql-j2d8XSbm",
        "colab_type": "code",
        "outputId": "e84ee51a-7cdc-4c8a-ca62-f548015b7346",
        "colab": {
          "base_uri": "https://localhost:8080/",
          "height": 33
        }
      },
      "source": [
        "num_words=vocab_size\n",
        "embedding_matrix=np.zeros((num_words,embedding_dim))\n",
        "for word,i in word_index.items():\n",
        "  if i >= num_words:\n",
        "    #print(i)\n",
        "    continue  \n",
        "  embedding_vector=weights[word_index[word]]\n",
        "  if embedding_vector is not None:\n",
        "    embedding_matrix[i]=embedding_vector\n",
        "print(num_words)      \n"
      ],
      "execution_count": 0,
      "outputs": [
        {
          "output_type": "stream",
          "text": [
            "10000\n"
          ],
          "name": "stdout"
        }
      ]
    },
    {
      "cell_type": "code",
      "metadata": {
        "id": "geZb37iPXUF5",
        "colab_type": "code",
        "outputId": "79691059-03ea-4d4d-c065-ff5c12fb9c58",
        "colab": {
          "base_uri": "https://localhost:8080/",
          "height": 301
        }
      },
      "source": [
        "from keras.initializers import Constant\n",
        "import tensorflow as tf\n",
        "model = tf.keras.Sequential([\n",
        "    tf.keras.layers.Embedding(num_words, embedding_dim,embeddings_initializer=Constant(embedding_matrix),input_length=max_length,trainable=False),\n",
        "    tf.keras.layers.GRU(units=32,dropout=0.2,recurrent_dropout=0.2),\n",
        "    tf.keras.layers.Dense(16, activation='relu'),\n",
        "    tf.keras.layers.Dense(1, activation='sigmoid')\n",
        "])\n",
        "model.compile(loss='binary_crossentropy',optimizer='adam',metrics=['accuracy'])\n",
        "model.summary()"
      ],
      "execution_count": 0,
      "outputs": [
        {
          "output_type": "stream",
          "text": [
            "Using TensorFlow backend.\n"
          ],
          "name": "stderr"
        },
        {
          "output_type": "stream",
          "text": [
            "Model: \"sequential_9\"\n",
            "_________________________________________________________________\n",
            "Layer (type)                 Output Shape              Param #   \n",
            "=================================================================\n",
            "embedding_9 (Embedding)      (None, 120, 100)          1000000   \n",
            "_________________________________________________________________\n",
            "gru_9 (GRU)                  (None, 32)                12864     \n",
            "_________________________________________________________________\n",
            "dense_18 (Dense)             (None, 16)                528       \n",
            "_________________________________________________________________\n",
            "dense_19 (Dense)             (None, 1)                 17        \n",
            "=================================================================\n",
            "Total params: 1,013,409\n",
            "Trainable params: 13,409\n",
            "Non-trainable params: 1,000,000\n",
            "_________________________________________________________________\n"
          ],
          "name": "stdout"
        }
      ]
    },
    {
      "cell_type": "code",
      "metadata": {
        "id": "zCvPRJ3xXWLk",
        "colab_type": "code",
        "outputId": "a467b978-8990-452f-e740-fbc2fa197bd0",
        "colab": {
          "base_uri": "https://localhost:8080/",
          "height": 53
        }
      },
      "source": [
        "batch_size = 32\n",
        "history=model.fit(X_train2, y_train2, validation_data=(X_valid, y_valid), batch_size=batch_size, epochs=5)"
      ],
      "execution_count": 0,
      "outputs": [
        {
          "output_type": "stream",
          "text": [
            "778/778 [==============================] - 86s 111ms/step - loss: 0.1667 - accuracy: 0.9312 - val_loss: 0.8067 - val_accuracy: 0.8125\n"
          ],
          "name": "stdout"
        }
      ]
    }
  ]
}